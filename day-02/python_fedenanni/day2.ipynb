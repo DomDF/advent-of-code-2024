{
 "cells": [
  {
   "cell_type": "markdown",
   "metadata": {},
   "source": [
    "# Part One"
   ]
  },
  {
   "cell_type": "code",
   "execution_count": 33,
   "metadata": {},
   "outputs": [],
   "source": [
    "input = open(\"input.txt\", \"r\").read().strip().split(\"\\n\")\n",
    "input = [x.split(\" \") for x in input]\n",
    "\n",
    "def all_increasing_or_descreasing(line):\n",
    "    inc_sort = sorted(line)\n",
    "    dec_sort = sorted(line, reverse=True)\n",
    "    if line == inc_sort or line == dec_sort:\n",
    "        return True\n",
    "    return False\n",
    "\n",
    "def check_safe(line):\n",
    "    for i in range(len(line)-1):\n",
    "        num = line[i]\n",
    "        next_num = line[i+1]\n",
    "        if abs(num - next_num) < 1 or abs(num - next_num) > 3:\n",
    "            return False\n",
    "    return True    "
   ]
  },
  {
   "cell_type": "code",
   "execution_count": 34,
   "metadata": {},
   "outputs": [
    {
     "name": "stdout",
     "output_type": "stream",
     "text": [
      "202\n"
     ]
    }
   ],
   "source": [
    "tot = 0\n",
    "for line in input:\n",
    "    line = [int(x) for x in line]\n",
    "    if all_increasing_or_descreasing(line) and check_safe(line):\n",
    "        tot += 1\n",
    "print(tot)"
   ]
  },
  {
   "cell_type": "markdown",
   "metadata": {},
   "source": [
    "# Part Two"
   ]
  },
  {
   "cell_type": "code",
   "execution_count": 62,
   "metadata": {},
   "outputs": [],
   "source": [
    "import copy\n",
    "\n",
    "def check_safe_subline(line):\n",
    "    for i in range(len(line)):\n",
    "        new_line = copy.copy(line)\n",
    "        new_line.pop(i)\n",
    "        if all_increasing_or_descreasing(new_line) and check_safe(new_line):\n",
    "            return True\n",
    "    return False"
   ]
  },
  {
   "cell_type": "code",
   "execution_count": 63,
   "metadata": {},
   "outputs": [
    {
     "name": "stdout",
     "output_type": "stream",
     "text": [
      "271\n"
     ]
    }
   ],
   "source": [
    "tot = 0\n",
    "for line in input:\n",
    "    line = [int(x) for x in line]\n",
    "    if all_increasing_or_descreasing(line) and check_safe(line):\n",
    "        tot += 1\n",
    "    elif check_safe_subline(line):\n",
    "            tot += 1\n",
    "print(tot)"
   ]
  }
 ],
 "metadata": {
  "kernelspec": {
   "display_name": ".venv",
   "language": "python",
   "name": "python3"
  },
  "language_info": {
   "codemirror_mode": {
    "name": "ipython",
    "version": 3
   },
   "file_extension": ".py",
   "mimetype": "text/x-python",
   "name": "python",
   "nbconvert_exporter": "python",
   "pygments_lexer": "ipython3",
   "version": "3.9.7"
  }
 },
 "nbformat": 4,
 "nbformat_minor": 2
}
