{
 "cells": [
  {
   "cell_type": "markdown",
   "metadata": {},
   "source": [
    "# Part 1"
   ]
  },
  {
   "cell_type": "code",
   "execution_count": 9,
   "metadata": {},
   "outputs": [
    {
     "name": "stdout",
     "output_type": "stream",
     "text": [
      "159833790\n"
     ]
    }
   ],
   "source": [
    "import re\n",
    "input = open('input.txt', 'r').read()\n",
    "input = input.split('mul(')\n",
    "tot = 0\n",
    "\n",
    "for pattern in input:\n",
    "    if re.match(r'\\d{1,3},\\d{1,3}\\)', pattern):\n",
    "        pattern = pattern.split(')')[0]\n",
    "        tot += int(pattern.split(',')[0]) * int(pattern.split(',')[1])\n",
    "print (tot)"
   ]
  },
  {
   "cell_type": "markdown",
   "metadata": {},
   "source": [
    "# Part 2"
   ]
  },
  {
   "cell_type": "code",
   "execution_count": null,
   "metadata": {},
   "outputs": [
    {
     "name": "stdout",
     "output_type": "stream",
     "text": [
      "89349241\n"
     ]
    }
   ],
   "source": [
    "tot = 0\n",
    "status = True\n",
    "for pattern in input:\n",
    "    if re.match(r'\\d{1,3},\\d{1,3}\\)', pattern):\n",
    "        pattern_numbers = pattern.split(')')[0]\n",
    "        if status == True:\n",
    "            tot += int(pattern_numbers.split(',')[0]) * int(pattern_numbers.split(',')[1])\n",
    "    \n",
    "    if \"do()\" in pattern:\n",
    "        status = True\n",
    "    if  \"don't()\" in pattern:\n",
    "        status = False\n",
    "\n",
    "print (tot)"
   ]
  }
 ],
 "metadata": {
  "kernelspec": {
   "display_name": ".venv",
   "language": "python",
   "name": "python3"
  },
  "language_info": {
   "codemirror_mode": {
    "name": "ipython",
    "version": 3
   },
   "file_extension": ".py",
   "mimetype": "text/x-python",
   "name": "python",
   "nbconvert_exporter": "python",
   "pygments_lexer": "ipython3",
   "version": "3.9.7"
  }
 },
 "nbformat": 4,
 "nbformat_minor": 2
}
