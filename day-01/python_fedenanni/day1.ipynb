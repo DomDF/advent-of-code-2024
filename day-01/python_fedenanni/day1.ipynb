{
 "cells": [
  {
   "cell_type": "markdown",
   "metadata": {},
   "source": [
    "# First part"
   ]
  },
  {
   "cell_type": "code",
   "execution_count": 7,
   "metadata": {},
   "outputs": [],
   "source": [
    "input = open('input.txt', 'r').read().strip().split('\\n')\n",
    "input = [x.split('   ') for x in input]"
   ]
  },
  {
   "cell_type": "code",
   "execution_count": null,
   "metadata": {},
   "outputs": [
    {
     "data": {
      "text/plain": [
       "[10178, 10197, 10212, 10213, 10242]"
      ]
     },
     "execution_count": 13,
     "metadata": {},
     "output_type": "execute_result"
    }
   ],
   "source": [
    "list_one = [int(x[0]) for x in input]\n",
    "list_two = [int(x[1]) for x in input]\n",
    "list_one.sort()\n",
    "list_two.sort()"
   ]
  },
  {
   "cell_type": "code",
   "execution_count": 15,
   "metadata": {},
   "outputs": [
    {
     "name": "stdout",
     "output_type": "stream",
     "text": [
      "1590491\n"
     ]
    }
   ],
   "source": [
    "diff = sum([abs(list_one[i] - list_two[i]) for i in range(len(list_one))])\n",
    "print(diff)"
   ]
  },
  {
   "cell_type": "markdown",
   "metadata": {},
   "source": [
    "# Second part"
   ]
  },
  {
   "cell_type": "code",
   "execution_count": 16,
   "metadata": {},
   "outputs": [
    {
     "name": "stdout",
     "output_type": "stream",
     "text": [
      "22588371\n"
     ]
    }
   ],
   "source": [
    "tot = []\n",
    "for i in range(len(list_one)):\n",
    "    num = list_one[i]\n",
    "    count = list_two.count(num)\n",
    "    tot.append(num*count)\n",
    "print(sum(tot))"
   ]
  }
 ],
 "metadata": {
  "kernelspec": {
   "display_name": ".venv",
   "language": "python",
   "name": "python3"
  },
  "language_info": {
   "codemirror_mode": {
    "name": "ipython",
    "version": 3
   },
   "file_extension": ".py",
   "mimetype": "text/x-python",
   "name": "python",
   "nbconvert_exporter": "python",
   "pygments_lexer": "ipython3",
   "version": "3.9.7"
  }
 },
 "nbformat": 4,
 "nbformat_minor": 2
}
